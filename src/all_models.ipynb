{
  "cells": [
    {
      "cell_type": "markdown",
      "metadata": {
        "id": "view-in-github",
        "colab_type": "text"
      },
      "source": [
        "<a href=\"https://colab.research.google.com/github/rb58853/embeddings-chatbot-testing/blob/main/src/all_models.ipynb\" target=\"_parent\"><img src=\"https://colab.research.google.com/assets/colab-badge.svg\" alt=\"Open In Colab\"/></a>"
      ]
    },
    {
      "cell_type": "markdown",
      "source": [
        "## Intall libraries and git clone"
      ],
      "metadata": {
        "id": "n4-xHZCGArAW"
      }
    },
    {
      "cell_type": "code",
      "execution_count": null,
      "metadata": {
        "id": "jRh9AoLBAlyr"
      },
      "outputs": [],
      "source": [
        "!git clone https://github.com/ML-Research-Team/embeddings.git\n",
        "\n",
        "import os\n",
        "os.chdir('embeddings/src')"
      ]
    },
    {
      "cell_type": "code",
      "execution_count": null,
      "metadata": {
        "id": "NgTVtiLFAlyu"
      },
      "outputs": [],
      "source": [
        "!pip install 'transformers[torch]'\n",
        "!pip install numpy"
      ]
    },
    {
      "cell_type": "markdown",
      "source": [
        "## Testing Models"
      ],
      "metadata": {
        "id": "Aa36Qjo-A7bR"
      }
    },
    {
      "cell_type": "code",
      "execution_count": null,
      "metadata": {
        "id": "imkuNJPLAlyv"
      },
      "outputs": [],
      "source": [
        "from utils import EmbeddingModel, similarity_by_vector"
      ]
    },
    {
      "cell_type": "markdown",
      "source": [
        "### Simple tsting for colors with rgb vector"
      ],
      "metadata": {
        "id": "IXx0iidrBBZp"
      }
    },
    {
      "cell_type": "code",
      "execution_count": null,
      "metadata": {
        "id": "DDu5-zXsAlyv"
      },
      "outputs": [],
      "source": [
        "aquamarine = [20, 230, 160]\n",
        "olive = [120, 230, 120]\n",
        "red = [222, 15, 25]\n",
        "yellow = [255, 255, 0]\n",
        "orange = [255, 165, 0]\n",
        "blue = [40,40, 255]\n",
        "green = [45,244,22]\n",
        "blue_green = [0, 128, 128]\n",
        "\n",
        "v1 = blue_green\n",
        "v2 = aquamarine\n",
        "\n",
        "print(f'vector: {similarity_by_vector(v1, v2)}')"
      ]
    },
    {
      "cell_type": "markdown",
      "source": [
        "### Testing all models with simples examples"
      ],
      "metadata": {
        "id": "t-eRFsNoB290"
      }
    },
    {
      "cell_type": "code",
      "source": [
        "e5_small =EmbeddingModel(\"intfloat/e5-small\")\n"
      ],
      "metadata": {
        "id": "ppy9lKwRCFLP"
      },
      "execution_count": null,
      "outputs": []
    }
  ],
  "metadata": {
    "language_info": {
      "name": "python"
    },
    "colab": {
      "provenance": [],
      "collapsed_sections": [
        "IXx0iidrBBZp"
      ],
      "include_colab_link": true
    }
  },
  "nbformat": 4,
  "nbformat_minor": 0
}