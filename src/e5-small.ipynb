{
 "cells": [
  {
   "cell_type": "code",
   "execution_count": null,
   "metadata": {},
   "outputs": [],
   "source": [
    "!git clone https://github.com/ML-Research-Team/embeddings.git\n",
    "\n",
    "import os\n",
    "os.chdir('embeddings/src')"
   ]
  },
  {
   "cell_type": "code",
   "execution_count": null,
   "metadata": {},
   "outputs": [],
   "source": [
    "!pip install 'transformers[torch]'\n",
    "!pip install numpy"
   ]
  },
  {
   "cell_type": "code",
   "execution_count": null,
   "metadata": {},
   "outputs": [],
   "source": [
    "model_name = \"intfloat/e5-small\"\n",
    "\n",
    "from utils import EmbeddingModel\n",
    "model = EmbeddingModel(model_name)"
   ]
  },
  {
   "cell_type": "code",
   "execution_count": null,
   "metadata": {},
   "outputs": [],
   "source": [
    "text1 = \"green\"\n",
    "text2 = \"red\"\n",
    "print(f'text: {model.similarity(text1, text2)}')\n",
    "\n",
    "v1 = [15,5,10 ]\n",
    "v2 = [11,10,57]\n",
    "print(f'vector: {model.similarity_by_vector(v1, v2)}')"
   ]
  }
 ],
 "metadata": {
  "language_info": {
   "name": "python"
  }
 },
 "nbformat": 4,
 "nbformat_minor": 2
}
