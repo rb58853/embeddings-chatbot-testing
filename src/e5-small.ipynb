{
 "cells": [
  {
   "cell_type": "code",
   "execution_count": null,
   "metadata": {},
   "outputs": [],
   "source": [
    "!git clone https://github.com/ML-Research-Team/embeddings.git\n",
    "\n",
    "import os\n",
    "os.chdir('embeddings/src')"
   ]
  },
  {
   "cell_type": "code",
   "execution_count": null,
   "metadata": {},
   "outputs": [],
   "source": [
    "!pip install 'transformers[torch]'\n",
    "!pip install numpy"
   ]
  },
  {
   "cell_type": "code",
   "execution_count": null,
   "metadata": {},
   "outputs": [],
   "source": [
    "model_name = \"intfloat/e5-small\"\n",
    "\n",
    "from utils import EmbeddingModel, similarity_by_vector\n",
    "model = EmbeddingModel(model_name)"
   ]
  },
  {
   "cell_type": "code",
   "execution_count": null,
   "metadata": {},
   "outputs": [],
   "source": [
    "aquamarine = [20, 230, 160]\n",
    "olive = [120, 230, 120]\n",
    "red = [222, 15, 25]\n",
    "yellow = [255, 255, 0]\n",
    "orange = [255, 165, 0]\n",
    "blue = [40,40, 255]\n",
    "green = [45,244,22]\n",
    "blue_green = [0, 128, 128]\n",
    "\n",
    "v1 = blue_green\n",
    "v2 = aquamarine\n",
    "\n",
    "print(f'vector: {similarity_by_vector(v1, v2)}')"
   ]
  }
 ],
 "metadata": {
  "language_info": {
   "name": "python"
  }
 },
 "nbformat": 4,
 "nbformat_minor": 2
}
